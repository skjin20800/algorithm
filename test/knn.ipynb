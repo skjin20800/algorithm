{
 "cells": [
  {
   "cell_type": "code",
   "execution_count": null,
   "metadata": {},
   "outputs": [],
   "source": [
    "!pip install surprise\n",
    "!pip install datasets"
   ]
  },
  {
   "cell_type": "code",
   "execution_count": null,
   "metadata": {},
   "outputs": [],
   "source": [
    "import pandas as pd\n",
    "import numpy as np\n",
    "from tqdm import tqdm\n",
    "from datasets import load_dataset\n",
    "from surprise import Dataset, Reader\n",
    "from surprise import KNNBasic\n",
    "from surprise import accuracy\n",
    "from surprise.model_selection.split import train_test_split\n",
    "import matplotlib.pyplot as plt"
   ]
  },
  {
   "cell_type": "code",
   "execution_count": null,
   "metadata": {},
   "outputs": [],
   "source": [
    "data = load_dataset(\"nbtpj/movielens-1m-ratings\")[\"train\"].shuffle(seed=10).select(range(200000))\n",
    "movielens_df = pd.DataFrame(data)\n",
    "movielens_df = movielens_df[[\"user_id\", \"movie_id\", \"user_rating\"]]"
   ]
  },
  {
   "cell_type": "code",
   "execution_count": null,
   "metadata": {},
   "outputs": [],
   "source": [
    "reader = Reader(rating_scale=(1, 5))\n",
    "dataset = Dataset.load_from_df(movielens_df, reader)\n",
    "train_data, test_data = train_test_split(dataset, test_size=0.2, random_state=10)"
   ]
  },
  {
   "cell_type": "code",
   "execution_count": null,
   "metadata": {},
   "outputs": [],
   "source": [
    "algo = KNNBasic()\n",
    "algo.fit(train_data)\n",
    "\n",
    "predictions = algo.test(test_data)\n",
    "rmse = accuracy.rmse(predictions)\n",
    "\n",
    "rmse"
   ]
  },
  {
   "cell_type": "code",
   "execution_count": null,
   "metadata": {},
   "outputs": [],
   "source": [
    "actual_ratings = [pred.r_ui for pred in predictions]\n",
    "predicted_ratings = [round(pred.est) for pred in predictions]\n",
    "\n",
    "plt.figure(figsize=(10,5))\n",
    "plt.hist(predicted_ratings, bins=5, alpha=0.5, label=\"Predicted\", color=\"#fc1c49\")\n",
    "plt.hist(actual_ratings, bins=5, alpha=0.5, label=\"Actual\", color=\"#00a67d\")\n",
    "plt.title(\"Predicted vs. Actual Rating Distribution\")\n",
    "plt.xlabel(\"Rating\")\n",
    "plt.ylabel(\"Frequency\")\n",
    "plt.legend()\n",
    "plt.show()"
   ]
  }
 ],
 "metadata": {
  "language_info": {
   "name": "python"
  }
 },
 "nbformat": 4,
 "nbformat_minor": 2
}
