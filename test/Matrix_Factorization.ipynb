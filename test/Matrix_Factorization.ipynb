{
 "cells": [
  {
   "cell_type": "code",
   "execution_count": null,
   "metadata": {},
   "outputs": [],
   "source": [
    "!pip install datasets"
   ]
  },
  {
   "cell_type": "code",
   "execution_count": null,
   "metadata": {},
   "outputs": [],
   "source": [
    "import pandas as pd\n",
    "import numpy as np\n",
    "from tqdm import tqdm # 데이터를 불러오는 프로그래스를 확인할때 유용\n",
    "from datasets import load_dataset # 영화 리뷰 데이터셋 불러오기\n",
    "from sklearn.model_selection import train_test_split\n",
    "import matplotlib.pyplot as plt"
   ]
  },
  {
   "cell_type": "code",
   "execution_count": null,
   "metadata": {},
   "outputs": [],
   "source": [
    "# 데이터 불러오기\n",
    "data = load_dataset(\"nbtpj/movielens-1m-ratings\")[\"train\"].shuffle(seed=10).select(range(200000)) # 데이터 20만개만 사용\n",
    "movielens_df = pd.DataFrame(data)\n",
    "movielens_df = movielens_df[[\"user_id\", \"movie_id\", \"user_rating\"]]\n",
    "\n",
    "user_ids = movielens_df[\"user_id\"].unique()\n",
    "user_id_map = {id: index for index, id in enumerate(user_ids)}\n",
    "movie_ids = movielens_df[\"movie_id\"].unique()\n",
    "movie_id_map = {id: index for index, id in enumerate(movie_ids)}\n",
    "\n",
    "movielens_df[\"user_id\"] = movielens_df[\"user_id\"].map(user_id_map)\n",
    "movielens_df[\"movie_id\"] = movielens_df[\"movie_id\"].map(movie_id_map)\n",
    "\n",
    "train_data, test_data = train_test_split(movielens_df, test_size=0.2, random_state=10)"
   ]
  },
  {
   "cell_type": "markdown",
   "metadata": {},
   "source": [
    "추천 알고리즘 모델 학습하기"
   ]
  },
  {
   "cell_type": "code",
   "execution_count": null,
   "metadata": {},
   "outputs": [],
   "source": [
    "num_users = len(user_ids)  # 사용자 수\n",
    "num_movies = len(movie_ids) # 영화의 수\n",
    "num_features = 10 # 사용할 특징(Feature)의 수\n",
    "\n",
    "user_features = np.random.normal(0, .1, (num_users, num_features)) # 사용자 특징을 나타내는 배열을 생성합니다. 배열의 각 요소는 평균이 0, 표준편차가 0.1인 정규분포에서 랜덤하게 선택됩니다.\n",
    "movie_features = np.random.normal(0, .1, (num_movies, num_features)) # 영화 특징을 나타내는 배열을 생성합니다. 배열의 각 요소는 평균이 0, 표준편차가 0.1인 정규분포에서 랜덤하게 선택됩니다.\n",
    "\n",
    "learning_rate = 0.01\n",
    "regularization = 0.1 # 정규화 파라미터 0.1로 설정, L2 Norm2 기법 사용\n",
    "epochs = 20\n",
    "epoch_rmse: list[float] = [] # 각 에폭에서의 평균 제곱근 오차(RMSE)를 저장할 리스트를 초기화합니다. Loss 함수로 사용한다.\n",
    "\n",
    "# 사용자 ID와 영화 ID를 입력받아 해당 사용자와 영화의 특징을 내적하여 평점을 예측하는 함수입니다.\n",
    "  # 즉, 추천 값을 예측할 때 사용된다.\n",
    "def predict_rating(user_id: int, movie_id: int) -> float:\n",
    "  return np.dot(user_features[user_id], movie_features[movie_id])\n",
    "\n",
    "# 에폭 수만큼 반복하면서 학습을 진행합니다.\n",
    "for epoch in tqdm(range(epochs)):\n",
    "  squared_errors: list[float] = []  # 제곱 오류를 저장할 리스트를 초기화합니다.\n",
    "\n",
    "  # 훈련 데이터의 각 행을 반복하면서 사용자 ID, 영화 ID, 실제 평점을 가져옵니다.\n",
    "  for _, row in train_data.iterrows():\n",
    "    user_id = int(row[\"user_id\"])\n",
    "    movie_id = int(row[\"movie_id\"])\n",
    "    rating = row[\"user_rating\"] # Ground Truth값\n",
    "\n",
    "    # 예측 평점을 계산합니다.\n",
    "    prediction = predict_rating(user_id, movie_id)\n",
    "    error = rating - prediction  # 실제 평점과 예측 평점의 차이(오류)를 계산합니다.\n",
    "    squared_errors.append(error**2)  # 오류의 제곱을 squared_errors 리스트에 추가합니다.\n",
    "\n",
    "    # 사용자 특징과 영화 특징을 업데이트합니다. 업데이트는 경사 하강법을 사용하며, 정규화 항을 포함합니다.\n",
    "    user_features[user_id] += learning_rate * (error * movie_features[movie_id] - regularization * user_features[user_id])\n",
    "    movie_features[movie_id] += learning_rate * (error * user_features[user_id] - regularization * movie_features[movie_id])\n",
    "\n",
    "# 현재 에폭에서의 평균 제곱근 오차(RMSE)를 계산하여 epoch_rmse 리스트에 추가합니다.\n",
    "  epoch_rmse.append(np.sqrt(np.mean(squared_errors)))\n"
   ]
  },
  {
   "cell_type": "code",
   "execution_count": null,
   "metadata": {},
   "outputs": [],
   "source": [
    "plt.figure(figsize=(10, 5))\n",
    "plt.plot(range(1, epochs+1), epoch_rmse, linewidth=2, color=\"#fc1c49\")\n",
    "plt.title(\"Epoch vs. RMSE\")\n",
    "plt.xlabel(\"Epoch\")\n",
    "plt.ylabel(\"RMSE\")\n",
    "plt.grid(True)\n",
    "plt.show()"
   ]
  },
  {
   "cell_type": "markdown",
   "metadata": {},
   "source": [
    "Validation"
   ]
  },
  {
   "cell_type": "code",
   "execution_count": null,
   "metadata": {},
   "outputs": [],
   "source": [
    "predictions: list[float] = []\n",
    "true_ratings: list[float] = []\n",
    "\n",
    "for _, row in tqdm(test_data.iterrows(), total=test_data.shape[0]):\n",
    "  user_id = int(row[\"user_id\"])\n",
    "  movie_id = int(row[\"movie_id\"])\n",
    "  true_rating = row[\"user_rating\"]\n",
    "\n",
    "  predicted_rating = predict_rating(user_id, movie_id)\n",
    "  predictions.append(round(predicted_rating))\n",
    "  true_ratings.append(true_rating)"
   ]
  },
  {
   "cell_type": "code",
   "execution_count": null,
   "metadata": {},
   "outputs": [],
   "source": [
    "plt.figure(figsize=(10,5))\n",
    "plt.hist(predictions, bins=5, alpha=0.5, label=\"Predicted\", color=\"#fc1c49\")\n",
    "plt.hist(true_ratings, bins=5, alpha=0.5, label=\"Actual\", color=\"#00a67d\")\n",
    "plt.title(\"Predicted vs. Actual Rating Distribution\")\n",
    "plt.xlabel(\"Rating\")\n",
    "plt.ylabel(\"Frequency\")\n",
    "plt.legend()\n",
    "plt.show()"
   ]
  },
  {
   "cell_type": "code",
   "execution_count": null,
   "metadata": {},
   "outputs": [],
   "source": [
    "rmse = np.sqrt(np.mean((np.array(predictions) - np.array(true_ratings))**2))\n",
    "print(f\"RMSE: {rmse}\") # RMSE: 1.0052735945999975"
   ]
  }
 ],
 "metadata": {
  "language_info": {
   "name": "python"
  }
 },
 "nbformat": 4,
 "nbformat_minor": 2
}
